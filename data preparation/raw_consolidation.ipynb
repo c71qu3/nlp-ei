{
 "cells": [
  {
   "cell_type": "code",
   "execution_count": null,
   "id": "22290213-48db-4dc1-9129-76e6268524cb",
   "metadata": {},
   "outputs": [],
   "source": [
    "import re\n",
    "import requests as rq\n",
    "from urllib.parse import urljoin\n",
    "import bs4\n",
    "from bs4 import BeautifulSoup\n",
    "from pathlib import Path\n",
    "import os\n",
    "import glob\n",
    "\n",
    "import json"
   ]
  },
  {
   "cell_type": "code",
   "execution_count": null,
   "id": "b4766b5a-e3ac-422b-a356-91cfaf6cfddd",
   "metadata": {},
   "outputs": [],
   "source": [
    "def process_files_to_json(data_path: str) -> None:\n",
    "    htmls = glob.glob(f\"{data_path}/raw/htmls/*.txt\")\n",
    "    #print(f\"Found {len(htmls)} files in path.\")\n",
    "\n",
    "    output_dicts = []\n",
    "    \n",
    "    for html_file in htmls:\n",
    "        abstract_file = html_file.replace(\"htmls\", \"abstracts\")\n",
    "        print(html_file, abstract_file)\n",
    "\n",
    "        with open(html_file, \"r\", encoding=\"utf8\") as h_f:\n",
    "            html_content = h_f.read()\n",
    "\n",
    "        with open(abstract_file, \"r\", encoding=\"utf8\") as a_f:\n",
    "            abstract_content = a_f.read()\n",
    "\n",
    "        try:\n",
    "            title, text_content = extract_text(html_content)\n",
    "\n",
    "            html_file_dict = {\n",
    "                \"article_id\": html_file.split(\"\\\\\")[1].replace(\".txt\", \"\"),\n",
    "                \"title\": title,\n",
    "                \"abstract\": abstract_content,\n",
    "                \"text_content\": text_content.strip()\n",
    "            }\n",
    "            output_dicts.append(html_file_dict)\n",
    "        except Exception as e:\n",
    "            print(e)\n",
    "            continue\n",
    "            \n",
    "    #print(output_dicts)\n",
    "    with open(f\"{data_path}/processed/json/processed.json\", \"w\", encoding=\"utf8\") as f:\n",
    "        for obj in output_dicts:\n",
    "            json.dump(obj, f, ensure_ascii=False)\n",
    "            f.write(\"\\n\")\n",
    "        \n",
    "def get_paper_sections(paper_soup: bs4.element.Tag) -> bs4.element.ResultSet:\n",
    "    sections = paper_soup.select(\"section.ltx_section\")\n",
    "    \n",
    "    return sections\n",
    "\n",
    "\n",
    "def parse_section(section: bs4.element.Tag) -> tuple:\n",
    "    section_heading = section.select_one(\"h2.ltx_title_section\").text.strip()\n",
    "    section_text = section.text\n",
    "    \n",
    "    return section_heading, section_text\n",
    "\n",
    "def extract_text(html_content) -> str:\n",
    "    soup = BeautifulSoup(html_content, \"html\")\n",
    "    title = soup.select_one(\"h1.ltx_title_document\").text\n",
    "    full_paper = soup.select_one(\"article.ltx_document\")\n",
    "    sections = get_paper_sections(paper_soup=full_paper)\n",
    "    \n",
    "    section_texts = []\n",
    "    for section in sections:\n",
    "        section_texts.append(parse_section(section)[1])\n",
    "    \n",
    "    full_text = \"\\n\\n\".join(section_texts)\n",
    "    \n",
    "    return title, full_text"
   ]
  },
  {
   "cell_type": "code",
   "execution_count": null,
   "id": "3a557bbb-7fe5-4ce7-92c0-1b99f2ddaa16",
   "metadata": {},
   "outputs": [],
   "source": [
    "data_path = \"../data\"\n",
    "processed_output_path = (Path(data_path)/\"processed\"/\"json\")\n",
    "\n",
    "if not Path(data_path).exists():\n",
    "    Path(data_path).mkdir()\n",
    "\n",
    "if not processed_output_path.exists():\n",
    "    (Path(data_path)/\"processed\"/\"json\").mkdir(parents=True)"
   ]
  },
  {
   "cell_type": "code",
   "execution_count": null,
   "id": "80794bfa-0f80-4382-9a96-ab0268fb5e37",
   "metadata": {},
   "outputs": [],
   "source": [
    "process_files_to_json(data_path=data_path)"
   ]
  }
 ],
 "metadata": {
  "kernelspec": {
   "display_name": "Python 3 (ipykernel)",
   "language": "python",
   "name": "python3"
  },
  "language_info": {
   "codemirror_mode": {
    "name": "ipython",
    "version": 3
   },
   "file_extension": ".py",
   "mimetype": "text/x-python",
   "name": "python",
   "nbconvert_exporter": "python",
   "pygments_lexer": "ipython3",
   "version": "3.9.7"
  }
 },
 "nbformat": 4,
 "nbformat_minor": 5
}
