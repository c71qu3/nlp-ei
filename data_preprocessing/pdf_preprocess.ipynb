{
 "cells": [
  {
   "cell_type": "markdown",
   "id": "7b4e7b75",
   "metadata": {},
   "source": [
    "# PDF Dataset Pre-processing\n",
    "\n",
    "This is an attempt to extract texts from a very heterogenous set of literature papers collected as PDF files. All the papers are related to _romance fiction_ and _post-feminist femininity_. The dataset can be found in a [shared Proton Drive folder](https://drive.proton.me/urls/XHCN6HYPTW#dKr8VEhPePbt).\n",
    "\n",
    "### Required Modules"
   ]
  },
  {
   "cell_type": "code",
   "execution_count": 9,
   "id": "5b4100dd",
   "metadata": {},
   "outputs": [],
   "source": [
    "import os\n",
    "from pdfminer.high_level import extract_text\n",
    "from pdfminer.layout import LAParams\n",
    "import re\n",
    "\n",
    "from typing import List, Dict"
   ]
  },
  {
   "cell_type": "markdown",
   "id": "4f7fa1bc",
   "metadata": {},
   "source": [
    "### Get Filenames"
   ]
  },
  {
   "cell_type": "code",
   "execution_count": 7,
   "id": "5a19d46e",
   "metadata": {},
   "outputs": [],
   "source": [
    "DIR = \"../data/raw/pdfs/\"\n",
    "\n",
    "def get_filenames_from(dir: str=DIR) -> List[str]:\n",
    "    \"\"\"Return all PDF filenames in given directory\"\"\"\n",
    "    try:\n",
    "        filenames: List[str] = [\n",
    "            os.path.join(\n",
    "                dir,\n",
    "                filename) for\n",
    "            filename in os.listdir(dir)\n",
    "            if os.path.isfile(\n",
    "                os.path.join(\n",
    "                    dir,\n",
    "                    filename))\n",
    "                and filename.lower().endswith(\n",
    "                    '.pdf')]\n",
    "        return filenames\n",
    "    except:\n",
    "        print(\"Error gathering filenames\")\n",
    "        return []\n",
    "\n",
    "# filenames = get_filenames_from()\n",
    "# for filename in filenames:\n",
    "#     print(filename)"
   ]
  },
  {
   "cell_type": "markdown",
   "id": "9f7a47ef",
   "metadata": {},
   "source": [
    "### Extract Text"
   ]
  },
  {
   "cell_type": "code",
   "execution_count": 8,
   "id": "ad4ef20b",
   "metadata": {},
   "outputs": [],
   "source": [
    "def extract_text_from(filename: str) -> str:\n",
    "    \"\"\"Extract text from PDF using pdfminer.six\"\"\"\n",
    "    laparams = LAParams(\n",
    "        char_margin=2.0,\n",
    "        word_margin=0.1,\n",
    "        line_margin=0.5)\n",
    "    return extract_text(\n",
    "        filename,\n",
    "        laparams=laparams)\n",
    "\n",
    "def extract_all_texts() -> Dict[str, str]:\n",
    "    \"\"\"Extract text from all PDF files\"\"\"\n",
    "    texts: Dict[str, str] = {}\n",
    "    filenames = get_filenames_from()\n",
    "    for filename in filenames:\n",
    "        texts[filename] = extract_text_from(filename)\n",
    "    return texts\n",
    "\n",
    "# print(extract_text_from(filenames[11]))\n",
    "# print(len(extract_all_texts()))"
   ]
  },
  {
   "cell_type": "markdown",
   "id": "5760bbaa",
   "metadata": {},
   "source": [
    "#### Issues with Text Extraction from PDF Files\n",
    "1. Broken words do to quirks on the file formats.\n",
    "```{txt}\n",
    "[...] Rape of \n",
    "P\n",
    "ossession, and the [...]\n",
    "```\n",
    "2. Different layouts remove the option of tweaking layout parameters when processing in bulk, some papers end up with poor formatting.\n",
    "```{txt}\n",
    "[...]\n",
    "Haskell  relates  the  popularity  of  domination \n",
    "\n",
    "fantasies  to  the  growth  of  the  women's  liberation  movement \n",
    "[...]\n",
    "```\n",
    "3. Some characters from fonts used in the PDF files are not available for Unicode translation.\n",
    "```{txt}\n",
    "[...]\n",
    "(cid:0)\n",
    "(cid:0)\n",
    " a woman underwent [...]\n",
    "```"
   ]
  },
  {
   "cell_type": "code",
   "execution_count": 16,
   "id": "add993d3",
   "metadata": {},
   "outputs": [],
   "source": [
    "def extract_abstracts(texts: Dict[str, str]) -> Dict[str, str]:\n",
    "    \"\"\"Extract abstract from each text\"\"\"\n",
    "    abstracts: Dict[str, str] = {}\n",
    "    pattern = re.compile(\n",
    "        r'(?i)(?:^|\\n)\\s*abstract\\s*[:.\\n]\\s*'\n",
    "        r'(.*?)'\n",
    "        r'(?=\\n\\s*(?:keywords|introduction|[0-9]+\\s)|\\Z)',\n",
    "        re.S)\n",
    "    for filename, text in texts.items():\n",
    "        result = pattern.search(text)\n",
    "        if result:\n",
    "            abstract = re.sub(r'\\s+', ' ', result.group(1)).strip()\n",
    "            abstracts[filename] = abstract\n",
    "    return abstracts\n",
    "\n",
    "# abstracts = extract_abstracts(extract_all_texts())\n",
    "# print(len(abstracts))"
   ]
  },
  {
   "cell_type": "markdown",
   "id": "ca76265e",
   "metadata": {},
   "source": [
    "My original pattern only finds **10** abstracts from the **23** texts.\n",
    "Not all PDFs have an abstract but a this number can definitely improve."
   ]
  },
  {
   "cell_type": "code",
   "execution_count": 17,
   "id": "44aa852c",
   "metadata": {},
   "outputs": [
    {
     "name": "stdout",
     "output_type": "stream",
     "text": [
      "../data/raw/pdfs/The Ethics and Economics of Middle Class Romance.pdf\n",
      "This article shows the philosophical kinship between Adam Smith and Mary Wollstonecraft on the subject of love. Though the two major 18th century think- ers are not traditionally brought into conversation with each other, Wollstonecraft and Smith share deep moral concerns about the emerging commercial society. As the new middle class continues to grow along with commerce, vanity becomes an ever more common vice among its members. But a vain person is preoccupied with appearance, status, and flattery—things that get in the way of what Smith and Wol- lstonecraft regard as the deep human connection they variously describe as love, sympathy, and esteem. Commercial society encourages inequality, Smith argues, and Wollstonecraft points out that this inequality is particularly obvious in the rela- tionships between men and women. Men are vain about their wealth, power and sta- tus; women about their appearance. Added to this is the fact that most middle class women are both uneducated and encouraged by the conduct literature of their day to be sentimental and irrational. The combined economic and moral considerations of Wollstonecraft and Smith show that there is very little room for love in commercial society as they conceived it.\n"
     ]
    }
   ],
   "source": [
    "abstracts = extract_abstracts(extract_all_texts())\n",
    "keys = list(abstracts.keys())\n",
    "print(keys[1])\n",
    "print(abstracts[keys[1]])"
   ]
  },
  {
   "cell_type": "code",
   "execution_count": null,
   "id": "c25e752c",
   "metadata": {},
   "outputs": [],
   "source": []
  }
 ],
 "metadata": {
  "kernelspec": {
   "display_name": ".venv",
   "language": "python",
   "name": "python3"
  },
  "language_info": {
   "codemirror_mode": {
    "name": "ipython",
    "version": 3
   },
   "file_extension": ".py",
   "mimetype": "text/x-python",
   "name": "python",
   "nbconvert_exporter": "python",
   "pygments_lexer": "ipython3",
   "version": "3.13.7"
  }
 },
 "nbformat": 4,
 "nbformat_minor": 5
}
